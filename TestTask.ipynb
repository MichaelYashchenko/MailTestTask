{
 "cells": [
  {
   "cell_type": "markdown",
   "source": [
    "# Python"
   ],
   "metadata": {}
  },
  {
   "cell_type": "code",
   "execution_count": 126,
   "source": [
    "import numpy as np\n",
    "import pandas as pd\n",
    "\n",
    "import statsmodels.stats.proportion as proportion\n",
    "import statsmodels.stats.power as smp\n",
    "\n",
    "import bootstrapped.bootstrap as bs\n",
    "import bootstrapped.stats_functions as bs_stats\n",
    "import bootstrapped.compare_functions as bs_compare\n",
    "\n",
    "import seaborn as sns\n",
    "import matplotlib.pyplot as plt\n",
    "\n",
    "import warnings\n",
    "warnings.filterwarnings(\"ignore\")"
   ],
   "outputs": [],
   "metadata": {}
  },
  {
   "cell_type": "markdown",
   "source": [
    "## Задача 2 Списки чисел"
   ],
   "metadata": {}
  },
  {
   "cell_type": "code",
   "execution_count": 149,
   "source": [
    "#заметим что с mean, min и  max  мы делаем одно и то же\n",
    "\n",
    "def lists_of_numbers(list1, list2):\n",
    "    return tuple(map(lambda func: 'First' if func(list1) < func(list2)\\\n",
    "                 else 'Second' if func(list2) < func(list1) else 'Equal',\\\n",
    "                 [np.mean, np.min, np.max]))"
   ],
   "outputs": [],
   "metadata": {}
  },
  {
   "cell_type": "code",
   "execution_count": 150,
   "source": [
    "lists_of_numbers([1, 2, 3], [2, 2, 2])"
   ],
   "outputs": [
    {
     "output_type": "execute_result",
     "data": {
      "text/plain": [
       "('Equal', 'First', 'Second')"
      ]
     },
     "metadata": {},
     "execution_count": 150
    }
   ],
   "metadata": {}
  },
  {
   "cell_type": "markdown",
   "source": [
    "##  Задача 1 A/B тест"
   ],
   "metadata": {}
  },
  {
   "cell_type": "code",
   "execution_count": 134,
   "source": [
    "df = pd.read_excel('AB_Test_Results.xlsx')\n",
    "df.head()"
   ],
   "outputs": [
    {
     "output_type": "execute_result",
     "data": {
      "text/plain": [
       "   USER_ID VARIANT_NAME  REVENUE\n",
       "0      737      variant      0.0\n",
       "1     2423      control      0.0\n",
       "2     9411      control      0.0\n",
       "3     7311      control      0.0\n",
       "4     6174      variant      0.0"
      ],
      "text/html": [
       "<div>\n",
       "<style scoped>\n",
       "    .dataframe tbody tr th:only-of-type {\n",
       "        vertical-align: middle;\n",
       "    }\n",
       "\n",
       "    .dataframe tbody tr th {\n",
       "        vertical-align: top;\n",
       "    }\n",
       "\n",
       "    .dataframe thead th {\n",
       "        text-align: right;\n",
       "    }\n",
       "</style>\n",
       "<table border=\"1\" class=\"dataframe\">\n",
       "  <thead>\n",
       "    <tr style=\"text-align: right;\">\n",
       "      <th></th>\n",
       "      <th>USER_ID</th>\n",
       "      <th>VARIANT_NAME</th>\n",
       "      <th>REVENUE</th>\n",
       "    </tr>\n",
       "  </thead>\n",
       "  <tbody>\n",
       "    <tr>\n",
       "      <th>0</th>\n",
       "      <td>737</td>\n",
       "      <td>variant</td>\n",
       "      <td>0.0</td>\n",
       "    </tr>\n",
       "    <tr>\n",
       "      <th>1</th>\n",
       "      <td>2423</td>\n",
       "      <td>control</td>\n",
       "      <td>0.0</td>\n",
       "    </tr>\n",
       "    <tr>\n",
       "      <th>2</th>\n",
       "      <td>9411</td>\n",
       "      <td>control</td>\n",
       "      <td>0.0</td>\n",
       "    </tr>\n",
       "    <tr>\n",
       "      <th>3</th>\n",
       "      <td>7311</td>\n",
       "      <td>control</td>\n",
       "      <td>0.0</td>\n",
       "    </tr>\n",
       "    <tr>\n",
       "      <th>4</th>\n",
       "      <td>6174</td>\n",
       "      <td>variant</td>\n",
       "      <td>0.0</td>\n",
       "    </tr>\n",
       "  </tbody>\n",
       "</table>\n",
       "</div>"
      ]
     },
     "metadata": {},
     "execution_count": 134
    }
   ],
   "metadata": {}
  },
  {
   "cell_type": "code",
   "execution_count": 135,
   "source": [
    "metrics = df.groupby('VARIANT_NAME', as_index=False).agg({'USER_ID' : 'count',\n",
    "                                                          'REVENUE' : lambda column: (column != 0).sum()})\n",
    "metrics['conversion'] = round(metrics['REVENUE']/metrics['USER_ID'] * 100, 2)\n",
    "metrics"
   ],
   "outputs": [
    {
     "output_type": "execute_result",
     "data": {
      "text/plain": [
       "  VARIANT_NAME  USER_ID  REVENUE  conversion\n",
       "0      control     4984     80.0        1.61\n",
       "1      variant     5016     72.0        1.44"
      ],
      "text/html": [
       "<div>\n",
       "<style scoped>\n",
       "    .dataframe tbody tr th:only-of-type {\n",
       "        vertical-align: middle;\n",
       "    }\n",
       "\n",
       "    .dataframe tbody tr th {\n",
       "        vertical-align: top;\n",
       "    }\n",
       "\n",
       "    .dataframe thead th {\n",
       "        text-align: right;\n",
       "    }\n",
       "</style>\n",
       "<table border=\"1\" class=\"dataframe\">\n",
       "  <thead>\n",
       "    <tr style=\"text-align: right;\">\n",
       "      <th></th>\n",
       "      <th>VARIANT_NAME</th>\n",
       "      <th>USER_ID</th>\n",
       "      <th>REVENUE</th>\n",
       "      <th>conversion</th>\n",
       "    </tr>\n",
       "  </thead>\n",
       "  <tbody>\n",
       "    <tr>\n",
       "      <th>0</th>\n",
       "      <td>control</td>\n",
       "      <td>4984</td>\n",
       "      <td>80.0</td>\n",
       "      <td>1.61</td>\n",
       "    </tr>\n",
       "    <tr>\n",
       "      <th>1</th>\n",
       "      <td>variant</td>\n",
       "      <td>5016</td>\n",
       "      <td>72.0</td>\n",
       "      <td>1.44</td>\n",
       "    </tr>\n",
       "  </tbody>\n",
       "</table>\n",
       "</div>"
      ]
     },
     "metadata": {},
     "execution_count": 135
    }
   ],
   "metadata": {}
  },
  {
   "cell_type": "markdown",
   "source": [
    "Будем использовать критерий Хи-квадрат для конверсии"
   ],
   "metadata": {}
  },
  {
   "cell_type": "code",
   "execution_count": 136,
   "source": [
    "alpha = 0.05\n",
    "chi2stat, pval, table = proportion.proportions_chisquare(metrics['REVENUE'], metrics['USER_ID'])\n",
    "print(pval < alpha)"
   ],
   "outputs": [
    {
     "output_type": "stream",
     "name": "stdout",
     "text": [
      "False\n"
     ]
    }
   ],
   "metadata": {}
  },
  {
   "cell_type": "markdown",
   "source": [
    "Статистически значимой разницы в конверсии не обнаружено, так как p-value выше выбранного порога ошибки первого рода"
   ],
   "metadata": {}
  },
  {
   "cell_type": "markdown",
   "source": [
    "Посмотрим также средний чек. Используем метод Bootstrap"
   ],
   "metadata": {}
  },
  {
   "cell_type": "code",
   "execution_count": 137,
   "source": [
    "test_group = df[df['VARIANT_NAME'] == 'variant']['REVENUE'].dropna().values\n",
    "control_group = df[df['VARIANT_NAME'] == 'control']['REVENUE'].dropna().values"
   ],
   "outputs": [],
   "metadata": {}
  },
  {
   "cell_type": "code",
   "execution_count": 138,
   "source": [
    "boot_results = bs.bootstrap_ab(test=test_group, ctrl=control_group,\\\n",
    "                                stat_func=bs_stats.mean,\\\n",
    "                                compare_func=bs_compare.difference,\\\n",
    "                                return_distribution=True)"
   ],
   "outputs": [],
   "metadata": {}
  },
  {
   "cell_type": "code",
   "execution_count": 139,
   "source": [
    "borders = np.percentile(boot_results, [2.5, 97.5])"
   ],
   "outputs": [],
   "metadata": {}
  },
  {
   "cell_type": "code",
   "execution_count": 140,
   "source": [
    "plt.figure(figsize=(14,8))\n",
    "sns.distplot(boot_results)\n",
    "plt.title('Bootstrap-распределние разниц среднего чека')\n",
    "# plt.rcParams['figure.figsize'] = (14, 8)\n",
    "# plt.vlines(0, ymin = 0, ymax = 0.003, linestyles = '--', colors = 'red')\n",
    "# plt.vlines(borders, ymin = 0, ymax = 0.003, linestyles = '--', colors = 'gray', label = '95%-доверительный интервал')\n",
    "plt.axvline(0, linestyle = '--', color = 'red')\n",
    "plt.axvline(borders[0], linestyle = '--', color = 'gray')\n",
    "plt.axvline(borders[1], linestyle = '--', color = 'gray', label = '95%-доверительный интервал')\n",
    "plt.legend()\n",
    "plt.show()"
   ],
   "outputs": [
    {
     "output_type": "display_data",
     "data": {
      "text/plain": [
       "<Figure size 1008x576 with 1 Axes>"
      ],
      "image/png": "[encoded data removed]"
     },
     "metadata": {
      "needs_background": "light"
     }
    }
   ],
   "metadata": {}
  },
  {
   "cell_type": "markdown",
   "source": [
    "Как мы видим, в наш доверительный интервал входит значение 0, а это значит, что статистически значимой разницы в среднем чеке мы также не обнаруживаем"
   ],
   "metadata": {}
  },
  {
   "cell_type": "markdown",
   "source": [
    "Вычислим мощность при использовании критерия Хи-квадрат"
   ],
   "metadata": {}
  },
  {
   "cell_type": "code",
   "execution_count": 141,
   "source": [
    "chipower = smp.GofChisquarePower()"
   ],
   "outputs": [],
   "metadata": {}
  },
  {
   "cell_type": "code",
   "execution_count": 142,
   "source": [
    "conversion_control = metrics['conversion'].values[0]/100\n",
    "conversion_test = metrics['conversion'].values[1]/100\n",
    "nobs = min(metrics['USER_ID'])"
   ],
   "outputs": [],
   "metadata": {}
  },
  {
   "cell_type": "code",
   "execution_count": 143,
   "source": [
    "def chi2_effect_size(p0, p1):\n",
    "    return np.sqrt((p0 - p1) ** 2 / p0)"
   ],
   "outputs": [],
   "metadata": {}
  },
  {
   "cell_type": "code",
   "execution_count": 144,
   "source": [
    "chipower.solve_power(effect_size = chi2_effect_size(conversion_control, conversion_test),\\\n",
    "                     nobs = nobs, alpha = pval, power = None)"
   ],
   "outputs": [
    {
     "output_type": "execute_result",
     "data": {
      "text/plain": [
       "0.6501212390641966"
      ]
     },
     "metadata": {},
     "execution_count": 144
    }
   ],
   "metadata": {}
  },
  {
   "cell_type": "markdown",
   "source": [
    "Мощность достаточно низкая: с вероятностью более чем 34% мы бы не увидели статистически значимых отличий там, где они существуют. Стандартным значением мощности является 80% и выше."
   ],
   "metadata": {}
  },
  {
   "cell_type": "markdown",
   "source": [
    "Вычислим количество наблюдений, необходимых для получения желаемого уровня мощности "
   ],
   "metadata": {}
  },
  {
   "cell_type": "code",
   "execution_count": 145,
   "source": [
    "power = 0.8"
   ],
   "outputs": [],
   "metadata": {}
  },
  {
   "cell_type": "code",
   "execution_count": 148,
   "source": [
    "size_of_each_test_group = chipower.\\\n",
    "solve_power(effect_size = chi2_effect_size(conversion_control, conversion_test),\\\n",
    "            nobs = None, alpha = alpha, power = power)\n",
    "print('Необходимый размер выборки для эксперимента - {:.0f}'.format(2 * size_of_each_test_group))"
   ],
   "outputs": [
    {
     "output_type": "stream",
     "name": "stdout",
     "text": [
      "Необходимый размер выборки для эксперимента - 87451\n"
     ]
    }
   ],
   "metadata": {}
  },
  {
   "cell_type": "markdown",
   "source": [
    "Какой вывод мы можем сделать: надо увеличить время наблюдений, чтобы набрать большую выборку"
   ],
   "metadata": {}
  },
  {
   "cell_type": "markdown",
   "source": [
    "Некоторые замечания:\n",
    "- Можно добавить данные, чтобы закрыть конверсионные окна: так например, у пользователей, которые заходили в последние дни тестирования, было меньше времени, чтобы воспользоваться услугами сайта, и из данных неизвестно учтен ли этот фактор, также никак не учитываются данные пользователя: например является ли он постоянным клиентом или же первый раз зашел на сайт, к какой целевой аудитории принадлежит тот или иной пользователь; в зависимости от того, какие услуги предоставляет сайт, можно накинуть еще ряд метрик "
   ],
   "metadata": {}
  },
  {
   "cell_type": "markdown",
   "source": [
    "Рекомендации менеджеру:\n",
    "- С учетом того, что мощность достаточно низкая, я бы предложил продолжить тестирование, чтобы набрать больше данных\n",
    "- Если же исходить из тех данных, которые есть, и проведенного анализа (Хи-квадрат для конверсии и Bootstrap для среднего чека) можно сделать вывод, что статистически значимой разницы между контрольной и тестовой выборкой нет"
   ],
   "metadata": {}
  },
  {
   "cell_type": "markdown",
   "source": [
    "# SQL"
   ],
   "metadata": {}
  },
  {
   "cell_type": "markdown",
   "source": [
    "Verion of SQL: MySQL"
   ],
   "metadata": {}
  },
  {
   "cell_type": "code",
   "execution_count": null,
   "source": [
    "----SQL Задача 1\n",
    "----Оцените на каждый день количество просмотров отдельно по монетизациям SVOD и AVOD на платформах 10 и 11 за последние 30 дней.\n",
    "\n",
    "SELECT show_date, SUM(CASE paid_type WHEN 'SVOD' THEN 1 ELSE NULL END) AS views_svod,\n",
    "SUM(CASE paid_type WHEN 'AVOD' THEN 1 ELSE NULL END) AS views_avod\n",
    "FROM\n",
    "(SELECT cw.show_date AS show_date, cw.platform AS platform, c.paid_type AS paid_type\n",
    "FROM content_watch as cw, content as c\n",
    "WHERE cw.content_id=c.content_id \n",
    "AND (cw.platform = 10 OR cw.platform = 11)\n",
    "ORDER BY cw.show_date DESC LIMIT 30)\n",
    "GROUP BY show_date;"
   ],
   "outputs": [],
   "metadata": {}
  },
  {
   "cell_type": "code",
   "execution_count": null,
   "source": [
    "----SQL Задача 3\n",
    "----Используя таблицы выше, напишите следующие SQL запросы:\n",
    "----Для каждого сотрудника найти его департамент, включая тех, у кого департамента нет:\n",
    "\n",
    "SELECT Employees.name AS name, Departments.name AS department\n",
    "FROM Employees LEFT OUTER JOIN Departments\n",
    "ON Employees.Dep_id = Departments.id;\n",
    "\n",
    "----Найти наибольшую зарплату по департаментам и отсортировать департаменты по убыванию максимальной зарплаты\n",
    "\n",
    "SELECT MAX(salary) AS max_salary, department \n",
    "FROM\n",
    "(SELECT Employees.Salary AS salary, Departments.name AS department\n",
    "FROM Employees LEFT OUTER JOIN Departments\n",
    "ON Employees.Dep_id = Departments.id)\n",
    "GROUP BY department\n",
    "ORDER BY MAX(salary) DESC;\n",
    "\n",
    "----Посчитать среднюю зарплату команды в группировке по менеджерам. (в таблице Employees Manager_id!=id)\n",
    "\n",
    "SELECT AVG(Salary) AS average_salary, Manager_id\n",
    "FROM Employees\n",
    "GROUP BY Manager_id;"
   ],
   "outputs": [],
   "metadata": {}
  },
  {
   "cell_type": "markdown",
   "source": [
    "# Бизнесовая задача"
   ],
   "metadata": {}
  },
  {
   "cell_type": "markdown",
   "source": [
    "Придумайте, как оценить показатель «Рекламная нагрузка».\n",
    "\n",
    "Нужна метрика, которая позволит оценить, с каким объемом рекламы сталкивается пользователь главной мейла при потреблении контента (публикации и видео).\n",
    "\n",
    "В каких показателях оценить эту метрику. Какой подход можно использовать чтобы оценить величину нагрузки – приемлемая или слишком высокая.\n",
    "\n",
    "Написание запроса не обязательно, необходим сам подход к расчету, формула, список данных, которые понадобятся. Представьте, что ограничений в данных нет."
   ],
   "metadata": {}
  },
  {
   "cell_type": "markdown",
   "source": [
    "![alt text](mail_main.png \"Title\")"
   ],
   "metadata": {}
  },
  {
   "cell_type": "markdown",
   "source": [
    "Будем рассчитывать коэффициент рекламной нагрузки, как отношение количества рекламы просмотренной пользователем к общему времени, которое он провел на странице:\n",
    "\n",
    "коэффициент рекламной нагрузки = количество рекламы / общее время, которое пользователь провел на странице в данную сессию\n",
    "\n",
    "Давайте подумаем, как оптимально рассчитать  параметр количество рекламы. \n",
    "Предлагаю производить расчет с весами:\n",
    "\n",
    "количество рекламы = sum_i( вес_i * реклама_i )\n",
    "\n",
    "Параметр реклама_i - это то, сколько раз пользователь видит одно и то же рекламное объявление/видеоролик на странице,\n",
    "то есть, например, если на странице одно рекламное объявление, то реклама_i = 1.\n",
    "\n",
    "В свою очередь вес_i будет зависеть от ряда параметров:\n",
    "- будем исходить из того, что у нас есть разные виды рекламы -  \n",
    "публикации, реклама во время видео и т.д. Так например, если мы знаем, что пользователь скорее обратит внимание на рекламу во время видео, чем на текстовое объявление, то вес видеорекламы больше\n",
    "\n",
    "- также учтем, что есть реклама, которую можно перемотать/закрыть, и \n",
    "соответственно реклама, которую пользователь закрыть не может. Если пользователь начинает закрывать рекламу - это может свидетельствовать о том, что он или устал от рекламы (она стала слишком навязчивой, мешает наслаждаться контентом) или он просто не является целевой аудиторией для данной рекламы и она ему не интересна. Прежде чем расписывать данную бизнесовую задачу, я сам зашел на главную страницу мейла, чтобы попробовать, потыкать, посмотреть и обнаружил, что у рекламы, которую можно закрыть, всплывает окошко с опросом, касательно причин закрытия. Будем учитывать в весе возможность (или ее отстутсвие) у пользователя закрыть рекламу."
   ],
   "metadata": {}
  },
  {
   "cell_type": "markdown",
   "source": [
    "![alt text](mail_main2.png \"Title\")"
   ],
   "metadata": {}
  },
  {
   "cell_type": "markdown",
   "source": [
    "- также будем учитывать время, которое пользователь провел на той части страницы, где размещена реклама, чем больше времени он там провел, тем больше соответсвенно будет вес\n",
    "\n",
    "- учтем положение рекламы на сайте: чем выше она размещена, тем больше шанс, что пользователь ее впринипе заметит\n",
    "\n",
    "- для постоянных пользователей, для которых мы знаем поисковую историю, чем они интересуются, к какой целевой аудитории принадлежат,\n",
    "реклама может быть таргетированной, и то является ли реклама таргетированной также должно учитываться в весе\n",
    "\n",
    "- также надо учесть расположение объявлений/банеров в кокретной области страницы, попадают ли объявления в область баннерной слепоты (30-40% объявлений пользоваетли вообще не замечают) \n",
    "\n",
    "Сама по себе функция вес_i может выглядеть по разному, но она в любом случае должна учитывать ряд параметров описанных выше, и задавать 'важность' того или иного рекламного объявления.\n",
    "\n",
    "Теперь давайте зададимся следующим вопросом: в каком случае мы будем считать величину нагрузки приемлимой, а в каком слишком высокой?\n",
    "\n",
    "Для того, чтобы определить значение коэффициента рекламной нагрузки, которое является приемлимым, предлагаю провести исследование - предложить разным группам пользователей тестовые версии сайта с разным количеством рекламы и определить некоторое оптимальное ее количество, при котором пользователь проводит как можно больше времени на сайте, как можно дальше (ниже) продвинется по странице и как можно меньше закрывает рекламные объявления, подобное же исследование может помочь оптимальное расположение баннеров. Так если реклама будет в самом центре страницы, то это будет мешать пользователем и мы увидим это во время тестирования.\n",
    "\n",
    "После исследования, зная оптимальный показатель коэффициента рекламной нагрузки, оптимальное расположение объявлений и баннеров мы можем наилучшим способом разместить рекламу на странице: так и пользователь останется доволен и мы, как владельцы сайта!\n"
   ],
   "metadata": {}
  }
 ],
 "metadata": {
  "orig_nbformat": 4,
  "language_info": {
   "name": "python",
   "version": "3.9.1",
   "mimetype": "text/x-python",
   "codemirror_mode": {
    "name": "ipython",
    "version": 3
   },
   "pygments_lexer": "ipython3",
   "nbconvert_exporter": "python",
   "file_extension": ".py"
  },
  "kernelspec": {
   "name": "python3",
   "display_name": "Python 3.9.1 64-bit"
  },
  "interpreter": {
   "hash": "4cd7ab41f5fca4b9b44701077e38c5ffd31fe66a6cab21e0214b68d958d0e462"
  }
 },
 "nbformat": 4,
 "nbformat_minor": 2
}